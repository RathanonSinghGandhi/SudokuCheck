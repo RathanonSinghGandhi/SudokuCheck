{
 "cells": [
  {
   "cell_type": "markdown",
   "metadata": {},
   "source": [
    "# Numerical Computation Project"
   ]
  },
  {
   "cell_type": "markdown",
   "metadata": {},
   "source": [
    "## Sudoku Solver (Linear Programming)"
   ]
  },
  {
   "attachments": {},
   "cell_type": "markdown",
   "metadata": {},
   "source": [
    "### Rathanon Singh Gandhi(6280205)"
   ]
  },
  {
   "cell_type": "code",
   "execution_count": null,
   "metadata": {},
   "outputs": [],
   "source": []
  },
  {
   "cell_type": "code",
   "execution_count": null,
   "metadata": {},
   "outputs": [],
   "source": [
    "#pip install pulp"
   ]
  },
  {
   "cell_type": "code",
   "execution_count": null,
   "metadata": {},
   "outputs": [],
   "source": [
    "import pulp as plp\n",
    "from colorama import Fore"
   ]
  },
  {
   "cell_type": "markdown",
   "metadata": {},
   "source": [
    "In this project we are going to use linear optimization or linear programming to solve an unsolved sudoku. We will be using PuLP package as our linear programming package.\n",
    "The rules for Sudoku are simple, we just put in numbers in the grid just and make sure no numbers repeat in the same grid, row or columns.\n",
    "Linear Programming consists of the following\n",
    "1. An objective function\n",
    "2. Descision Variables\n",
    "3. Constrains\n"
   ]
  },
  {
   "cell_type": "markdown",
   "metadata": {},
   "source": [
    "\n",
    "The goal of linear programming is to find an optimal set of decision variables for the given objective function with all the constraints applied. The solution could be a feasible solution or an optimal solution.\n"
   ]
  },
  {
   "cell_type": "markdown",
   "metadata": {},
   "source": [
    "\n",
    "We shall compare these concepts of linear programming with our sudoku solver.\n",
    "<br>\n",
    "1. An objective function - Normally in linear programming, we have an objective function that we try to either maximize or minimize. But in this case, we do not have any objective function. It is more of a feasibility problem, i.e. if the constraints are satisfied then the sudoku is solved. So we will have to create a fake or dummy objective.\n",
    "<br>\n",
    "2. Descision Variables - Sudoku grid consists of 81 cells (9x9 grid). Each cell can take a value between 1 and 9. If we create a set of boolean decision variables for each of these values, then we get a total of 729 variables (9x9x9). In the case of our solver we have named them r,c,g for rows, colums and grid respectively.\n",
    "<br> \n",
    "3. Constrains-The rules for Sudoku need to be set as constraints to solve this problem.Given that Sudoku is a 9x9 grid, the rules of the game are mentioned below:\n",
    "<br>\n",
    "    Constraint 1: Each cell should be filled with a single value between 1 and 9\n",
    "\n",
    "    Constraint 2: Each row should contain every number from 1 to 9 once\n",
    "\n",
    "    Constraint 3: Each column should contain every number from 1 to 9 once\n",
    "\n",
    "    Constraint 4: Each 3x3 grid, starting from top left, should contain every number from 1 to 9 once"
   ]
  },
  {
   "cell_type": "markdown",
   "metadata": {},
   "source": [
    "This below is our Main input function where we take in the input sudoku grid .\n",
    "\n",
    "We initilise our problem with regards to linear programming. \n",
    "\n",
    "We create our descision variable of rows colums and grid which will ranre from 0 to 8 as there are 9 rows,9 colums and 9 in a grid. We also have vairable n which ranges from 1 to 9 as the numbers we can place in the blank cell. \n",
    "\n",
    "We also create a Dummy objective here due to the fact that no optimisation is need in sudoku. We just need a feasible solution."
   ]
  },
  {
   "cell_type": "code",
   "execution_count": null,
   "metadata": {},
   "outputs": [],
   "source": [
    "def solve_sudoku(input_sudoku):\n",
    "    # Create the linear programming problem for us to solve it\n",
    "    problem = plp.LpProblem(\"Sudoku_Solver\")\n",
    "\n",
    "    r = range(0,9) #rows variable\n",
    "    c = range(0,9) #columns variable\n",
    "    g = range(0,9) #grid variable\n",
    "    n = range(1,10) #soduku values(numbers) from 1 to 9\n",
    "\n",
    "    # Decision Variable\n",
    "    gridVariable = plp.LpVariable.dicts(\"grid_value\", (r,c,n), cat='Binary')\n",
    "\n",
    "\n",
    "    # There is no objective function that we are trying maximize or minimize so we simply S\\set a dummy objective as sudoku only works on it rules i.e. constraints\n",
    "    obj = plp.lpSum(0) #objective\n",
    "    problem.setObjective(obj)\n",
    "\n",
    "    # a default function which adds the rules of the game as contraints for our linear program\n",
    "    add_default_sudoku_constraints(problem, gridVariable, r, c, g, n)\n",
    "\n",
    "    # a fuctions that makes the already filled cells as additional contraints for our linear brogram\n",
    "    add_prefilled_constraints(problem, input_sudoku, gridVariable, r, c, n)\n",
    "\n",
    "    # Solve the problem using tlinear programming\n",
    "    problem.solve()\n",
    "\n",
    "    # Find the status of the sudoku which determine wheter the input sudoku is solvable or not\n",
    "    status = plp.LpStatus[problem.status]\n",
    "    \n",
    "    # Extract and print the final solution if the status is optimal else print appropriate message\n",
    "    if status == 'Optimal':\n",
    "        print(f'Solution Status = {plp.LpStatus[problem.status]}')\n",
    "        sol = extract_solution(gridVariable, r, c, n)\n",
    "        print_solution(sol, r,c,input_sudoku)\n",
    "    else:\n",
    "        print(\"The input sudoku grid was invalid. Please put a valid grid\")\n",
    "        print(f'Solution Status = {plp.LpStatus[problem.status]}')\n",
    "\n"
   ]
  },
  {
   "cell_type": "markdown",
   "metadata": {},
   "source": [
    "This below is our constrains funtion. As we know the constrains are the rules of the game. We go through each rules and add them as contrains for our linear programming solver. There are 4 constrains in total as already metioned above."
   ]
  },
  {
   "cell_type": "code",
   "execution_count": null,
   "metadata": {},
   "outputs": [],
   "source": [
    "\n",
    "def add_default_sudoku_constraints(prob, grid_vars, rows, cols, grids, values):\n",
    "    # Constraint to ensure only one value can be filled in one cell\n",
    "    lr = len(rows)\n",
    "    for r in range(0,lr):\n",
    "        lc = len(cols)\n",
    "        for c in range(0,lc):\n",
    "            prob.addConstraint(plp.LpConstraint(e=plp.lpSum([grid_vars[r][c][value] for value in values]),\n",
    "                                                sense=plp.LpConstraintEQ, rhs=1, name=f\"constraint_sum_{r}_{c}\"))\n",
    "\n",
    "    # Constraint to ensure that values from 1 to 9 is filled only once in a row so that no repetitions in same row\n",
    "    for r in range(0,lr):\n",
    "        for v in values:\n",
    "            prob.addConstraint(plp.LpConstraint(e=plp.lpSum([grid_vars[r][col][v] * v for col in cols]),\n",
    "                                                sense=plp.LpConstraintEQ, rhs=v,\n",
    "                                                name=f\"constraint_uniq_row_{r}_{v}\"))\n",
    "\n",
    "    # Constraint to ensure that values from 1 to 9 is filled only once in a column so that no repetitions in same column\n",
    "\n",
    "    for c in range(0,lc):\n",
    "        for v in values:\n",
    "            prob.addConstraint(plp.LpConstraint(e=plp.lpSum([grid_vars[row][c][v] * v for row in rows]),\n",
    "                                                sense=plp.LpConstraintEQ, rhs=v,\n",
    "                                                name=f\"constraint_uniq_col_{c}_{v}\"))\n",
    "\n",
    "    # Constraint to ensure that values from 1 to 9 is filled only once in the 3x3 grid so that no repetitions in same sub grid.\n",
    "    for grid in grids:\n",
    "        gr = int(grid / 3) #grid rows\n",
    "        gc = int(grid % 3) #grid columns\n",
    "\n",
    "        for v in values:\n",
    "            prob.addConstraint(plp.LpConstraint(e=plp.lpSum(\n",
    "                [grid_vars[gr * 3 + row][gc * 3 + col][v] * v for col in range(0, 3) for row in\n",
    "                 range(0, 3)]),sense=plp.LpConstraintEQ, rhs=v, name=f\"constraint_uniq_grid_{grid}_{v}\"))\n"
   ]
  },
  {
   "cell_type": "markdown",
   "metadata": {},
   "source": [
    "Now this function deals with one additional contraints. This contrains are the numbers that already filled in in the sudoku puzzle. We cannot change those values and we fill in the blank cell with the above contrains with regards to the values that are already prefilled in the puzzle. So we add that number that is not zero in as additional constraint. Whem we will solve the zeros are treated as blank cells and will be replaced with the feasible number."
   ]
  },
  {
   "cell_type": "code",
   "execution_count": null,
   "metadata": {},
   "outputs": [],
   "source": [
    "def add_prefilled_constraints(prob, input_sudoku, grid_vars, rows, cols, values):\n",
    "    lr = len(rows)\n",
    "    for r in range(0,lr):\n",
    "        lc = len(cols)\n",
    "        for c in range(0,lc):\n",
    "            if(input_sudoku[r][c] != 0):#if the input sudoku cell value is not zero we add that cell as an additional constraint\n",
    "                prob.addConstraint(plp.LpConstraint(e=plp.lpSum([grid_vars[r][c][value]*value  for value in values]),\n",
    "                                                    sense=plp.LpConstraintEQ,\n",
    "                                                    rhs=input_sudoku[r][c],\n",
    "                                                    name=f\"constraint_prefilled_{r}_{c}\"))"
   ]
  },
  {
   "cell_type": "markdown",
   "metadata": {},
   "source": [
    "This function helps us extract the solution after we solved our problem and store it in a 2d list called sol. So we simply loop through each cell and then we loop through the values from 1 to 9 and if that value is feasible after we sovled our proble, we put the value in the row and column index. So by the end of our function we will have the final solved sudoku grid stored in sol."
   ]
  },
  {
   "cell_type": "code",
   "execution_count": null,
   "metadata": {},
   "outputs": [],
   "source": [
    "def extract_solution(grid_vars, rows, cols, values):\n",
    "    sol = [[0 for col in cols] for row in rows] #2d list to store our solution\n",
    "    lr = len(rows)\n",
    "    for r in range(0,lr):\n",
    "        lc = len(cols)\n",
    "        for c in range(0,lc):\n",
    "            for value in values:\n",
    "                if plp.value(grid_vars[r][c][value]):\n",
    "                    sol[r][c] = value #filling the blank cells with feasible values\n",
    "    return sol"
   ]
  },
  {
   "cell_type": "code",
   "execution_count": null,
   "metadata": {},
   "outputs": [],
   "source": [
    "def print_solution(solution, rows,cols,input_sudoku):\n",
    "    # Print the final result in form of grids made using symbols\n",
    "    print(f\"\\nFinal Sodoku Solution: \\n\\033[1;35mPrefilled numbers denoted with Purple. \\033[1;32m\\nSolution is denoted with Green\")\n",
    "    i=0\n",
    "    for row in rows:\n",
    "        print(\"\\033[1;34m\\n\",end=\"\\n|  \")\n",
    "        for col in cols:\n",
    "            num_end = \"  |  \" if ((col+1)%3 == 0) else \"   \"\n",
    "            if(solution[row][col]==input_sudoku[row][col]):\n",
    "                print(\"\\033[1;35m\",solution[row][col],end=\"\\033[1;34m\"+num_end)\n",
    "            else:\n",
    "                print(\"\\033[1;32m\",solution[row][col],end=\"\\033[1;34m\"+num_end)\n",
    "        i=i+1\n",
    "        if(i==3 or i==6):\n",
    "            print(\"\\033[1;34m\\n\\n+ -------------- + -------------- + -------------- +\",end=\"\")      "
   ]
  },
  {
   "cell_type": "code",
   "execution_count": 14,
   "metadata": {},
   "outputs": [
    {
     "name": "stdout",
     "output_type": "stream",
     "text": [
      "The input sudoku grid was invalid. Please put a valid grid\n",
      "Solution Status = Infeasible\n"
     ]
    }
   ],
   "source": [
    "normal_sudoku = [\n",
    "                    [3,0,0,8,0,0,0,0,1],\n",
    "                    [0,0,0,0,0,2,0,0,0],\n",
    "                    [0,4,1,5,0,0,8,3,0],\n",
    "                    [0,2,0,0,0,1,0,0,0],\n",
    "                    [8,5,0,4,0,3,0,1,7],\n",
    "                    [0,0,0,7,0,0,0,2,0],\n",
    "                    [0,8,5,0,0,9,7,4,0],\n",
    "                    [0,0,0,1,0,0,0,0,0],\n",
    "                    [9,0,0,0,0,7,0,0,6]\n",
    "                \n",
    "                ]\n",
    "\n",
    "\n",
    "solve_sudoku(input_sudoku=normal_sudoku)"
   ]
  },
  {
   "cell_type": "code",
   "execution_count": null,
   "metadata": {},
   "outputs": [],
   "source": []
  }
 ],
 "metadata": {
  "kernelspec": {
   "display_name": "Python 3",
   "language": "python",
   "name": "python3"
  },
  "language_info": {
   "codemirror_mode": {
    "name": "ipython",
    "version": 3
   },
   "file_extension": ".py",
   "mimetype": "text/x-python",
   "name": "python",
   "nbconvert_exporter": "python",
   "pygments_lexer": "ipython3",
   "version": "3.7.4"
  }
 },
 "nbformat": 4,
 "nbformat_minor": 2
}
